{
 "cells": [
  {
   "cell_type": "markdown",
   "metadata": {},
   "source": [
    "Model aware"
   ]
  },
  {
   "cell_type": "code",
   "execution_count": 8,
   "metadata": {},
   "outputs": [],
   "source": [
    "import model_aware_shroom_parse\n",
    "import model_agnostic_shroom_parse\n",
    "import pandas as pd"
   ]
  },
  {
   "cell_type": "code",
   "execution_count": 9,
   "metadata": {},
   "outputs": [],
   "source": [
    "df_aware = pd.DataFrame(model_aware_shroom_parse.parsed_data)"
   ]
  },
  {
   "cell_type": "code",
   "execution_count": 10,
   "metadata": {},
   "outputs": [
    {
     "data": {
      "text/plain": [
       "hyp      0\n",
       "tgt      0\n",
       "src      1\n",
       "ref      0\n",
       "task     0\n",
       "model    0\n",
       "dtype: int64"
      ]
     },
     "execution_count": 10,
     "metadata": {},
     "output_type": "execute_result"
    }
   ],
   "source": [
    "df_aware.isna().sum()"
   ]
  },
  {
   "cell_type": "code",
   "execution_count": 11,
   "metadata": {},
   "outputs": [
    {
     "name": "stdout",
     "output_type": "stream",
     "text": [
      "It is possible that there is a possibility that there is a possibility that it is possible that there is a possibility that it is possible that it is possible that it is possible that it is possible that it is possible that it is possible that it is possible that it is possible that it is possible\n"
     ]
    }
   ],
   "source": [
    "print(df_aware[df_aware['src'].isna()]['hyp'][10519])"
   ]
  },
  {
   "cell_type": "code",
   "execution_count": 12,
   "metadata": {},
   "outputs": [
    {
     "data": {
      "text/html": [
       "<div>\n",
       "<style scoped>\n",
       "    .dataframe tbody tr th:only-of-type {\n",
       "        vertical-align: middle;\n",
       "    }\n",
       "\n",
       "    .dataframe tbody tr th {\n",
       "        vertical-align: top;\n",
       "    }\n",
       "\n",
       "    .dataframe thead th {\n",
       "        text-align: right;\n",
       "    }\n",
       "</style>\n",
       "<table border=\"1\" class=\"dataframe\">\n",
       "  <thead>\n",
       "    <tr style=\"text-align: right;\">\n",
       "      <th></th>\n",
       "      <th>hyp</th>\n",
       "      <th>tgt</th>\n",
       "      <th>src</th>\n",
       "      <th>ref</th>\n",
       "      <th>task</th>\n",
       "      <th>model</th>\n",
       "    </tr>\n",
       "  </thead>\n",
       "  <tbody>\n",
       "    <tr>\n",
       "      <th>0</th>\n",
       "      <td>Of or pertaining to the language of a particul...</td>\n",
       "      <td>Of or pertaining to everyday language , as opp...</td>\n",
       "      <td>There are blacktips , silvertips , bronze whal...</td>\n",
       "      <td>tgt</td>\n",
       "      <td>DM</td>\n",
       "      <td>ltg/flan-t5-definition-en-base</td>\n",
       "    </tr>\n",
       "    <tr>\n",
       "      <th>1</th>\n",
       "      <td>Not coercive ; not involving coercion</td>\n",
       "      <td>Not coercive ; free of coercion</td>\n",
       "      <td>Mr. obama signed executive orders requiring al...</td>\n",
       "      <td>tgt</td>\n",
       "      <td>DM</td>\n",
       "      <td>ltg/flan-t5-definition-en-base</td>\n",
       "    </tr>\n",
       "    <tr>\n",
       "      <th>2</th>\n",
       "      <td>To express or express by words ; to express by...</td>\n",
       "      <td>To depict or portray .</td>\n",
       "      <td>Disloyal ? / the word is too good to paint out...</td>\n",
       "      <td>tgt</td>\n",
       "      <td>DM</td>\n",
       "      <td>ltg/flan-t5-definition-en-base</td>\n",
       "    </tr>\n",
       "    <tr>\n",
       "      <th>3</th>\n",
       "      <td>Having the power to authoritatively speak or w...</td>\n",
       "      <td>Having a commanding style .</td>\n",
       "      <td>He instructed us in that booming , authoritati...</td>\n",
       "      <td>tgt</td>\n",
       "      <td>DM</td>\n",
       "      <td>ltg/flan-t5-definition-en-base</td>\n",
       "    </tr>\n",
       "    <tr>\n",
       "      <th>4</th>\n",
       "      <td>Without a scot .</td>\n",
       "      <td>Without consequences or penalties , to go free...</td>\n",
       "      <td>To get off scot-free . What is the meaning of ...</td>\n",
       "      <td>tgt</td>\n",
       "      <td>DM</td>\n",
       "      <td>ltg/flan-t5-definition-en-base</td>\n",
       "    </tr>\n",
       "  </tbody>\n",
       "</table>\n",
       "</div>"
      ],
      "text/plain": [
       "                                                 hyp  \\\n",
       "0  Of or pertaining to the language of a particul...   \n",
       "1              Not coercive ; not involving coercion   \n",
       "2  To express or express by words ; to express by...   \n",
       "3  Having the power to authoritatively speak or w...   \n",
       "4                                   Without a scot .   \n",
       "\n",
       "                                                 tgt  \\\n",
       "0  Of or pertaining to everyday language , as opp...   \n",
       "1                    Not coercive ; free of coercion   \n",
       "2                             To depict or portray .   \n",
       "3                        Having a commanding style .   \n",
       "4  Without consequences or penalties , to go free...   \n",
       "\n",
       "                                                 src  ref task  \\\n",
       "0  There are blacktips , silvertips , bronze whal...  tgt   DM   \n",
       "1  Mr. obama signed executive orders requiring al...  tgt   DM   \n",
       "2  Disloyal ? / the word is too good to paint out...  tgt   DM   \n",
       "3  He instructed us in that booming , authoritati...  tgt   DM   \n",
       "4  To get off scot-free . What is the meaning of ...  tgt   DM   \n",
       "\n",
       "                            model  \n",
       "0  ltg/flan-t5-definition-en-base  \n",
       "1  ltg/flan-t5-definition-en-base  \n",
       "2  ltg/flan-t5-definition-en-base  \n",
       "3  ltg/flan-t5-definition-en-base  \n",
       "4  ltg/flan-t5-definition-en-base  "
      ]
     },
     "execution_count": 12,
     "metadata": {},
     "output_type": "execute_result"
    }
   ],
   "source": [
    "df_aware.head()"
   ]
  },
  {
   "cell_type": "code",
   "execution_count": 13,
   "metadata": {},
   "outputs": [
    {
     "data": {
      "text/plain": [
       "array(['tgt', 'src', 'either'], dtype=object)"
      ]
     },
     "execution_count": 13,
     "metadata": {},
     "output_type": "execute_result"
    }
   ],
   "source": [
    "df_aware['ref'].unique()"
   ]
  },
  {
   "cell_type": "markdown",
   "metadata": {},
   "source": [
    "Model agnostic"
   ]
  },
  {
   "cell_type": "code",
   "execution_count": 14,
   "metadata": {},
   "outputs": [],
   "source": [
    "df_agnostic = pd.DataFrame(model_agnostic_shroom_parse.parsed_data)"
   ]
  },
  {
   "cell_type": "code",
   "execution_count": 17,
   "metadata": {},
   "outputs": [
    {
     "data": {
      "text/html": [
       "<div>\n",
       "<style scoped>\n",
       "    .dataframe tbody tr th:only-of-type {\n",
       "        vertical-align: middle;\n",
       "    }\n",
       "\n",
       "    .dataframe tbody tr th {\n",
       "        vertical-align: top;\n",
       "    }\n",
       "\n",
       "    .dataframe thead th {\n",
       "        text-align: right;\n",
       "    }\n",
       "</style>\n",
       "<table border=\"1\" class=\"dataframe\">\n",
       "  <thead>\n",
       "    <tr style=\"text-align: right;\">\n",
       "      <th></th>\n",
       "      <th>hyp</th>\n",
       "      <th>tgt</th>\n",
       "      <th>src</th>\n",
       "      <th>ref</th>\n",
       "      <th>task</th>\n",
       "      <th>model</th>\n",
       "    </tr>\n",
       "  </thead>\n",
       "  <tbody>\n",
       "    <tr>\n",
       "      <th>0</th>\n",
       "      <td>Don't worry, it's only temporary.</td>\n",
       "      <td>Don't worry. It's only temporary.</td>\n",
       "      <td>Не волнуйся. Это только временно.</td>\n",
       "      <td>either</td>\n",
       "      <td>MT</td>\n",
       "      <td></td>\n",
       "    </tr>\n",
       "    <tr>\n",
       "      <th>1</th>\n",
       "      <td>Tom is never where he should be.</td>\n",
       "      <td>Tom is never where he's supposed to be.</td>\n",
       "      <td>Тома никогда нет там, где он должен быть.</td>\n",
       "      <td>either</td>\n",
       "      <td>MT</td>\n",
       "      <td></td>\n",
       "    </tr>\n",
       "    <tr>\n",
       "      <th>2</th>\n",
       "      <td>It's hard for me to work with Tom.</td>\n",
       "      <td>I have trouble working with Tom.</td>\n",
       "      <td>Мне сложно работать с Томом.</td>\n",
       "      <td>either</td>\n",
       "      <td>MT</td>\n",
       "      <td></td>\n",
       "    </tr>\n",
       "    <tr>\n",
       "      <th>3</th>\n",
       "      <td>Water, please.</td>\n",
       "      <td>I'd like some water.</td>\n",
       "      <td>Воду, пожалуйста.</td>\n",
       "      <td>either</td>\n",
       "      <td>MT</td>\n",
       "      <td></td>\n",
       "    </tr>\n",
       "    <tr>\n",
       "      <th>4</th>\n",
       "      <td>I didn't expect Tom to betray me.</td>\n",
       "      <td>I didn't think that Tom would betray me.</td>\n",
       "      <td>Я не ожидал, что Том предаст меня.</td>\n",
       "      <td>either</td>\n",
       "      <td>MT</td>\n",
       "      <td></td>\n",
       "    </tr>\n",
       "  </tbody>\n",
       "</table>\n",
       "</div>"
      ],
      "text/plain": [
       "                                  hyp  \\\n",
       "0   Don't worry, it's only temporary.   \n",
       "1    Tom is never where he should be.   \n",
       "2  It's hard for me to work with Tom.   \n",
       "3                      Water, please.   \n",
       "4   I didn't expect Tom to betray me.   \n",
       "\n",
       "                                        tgt  \\\n",
       "0         Don't worry. It's only temporary.   \n",
       "1   Tom is never where he's supposed to be.   \n",
       "2          I have trouble working with Tom.   \n",
       "3                      I'd like some water.   \n",
       "4  I didn't think that Tom would betray me.   \n",
       "\n",
       "                                         src     ref task model  \n",
       "0          Не волнуйся. Это только временно.  either   MT        \n",
       "1  Тома никогда нет там, где он должен быть.  either   MT        \n",
       "2               Мне сложно работать с Томом.  either   MT        \n",
       "3                          Воду, пожалуйста.  either   MT        \n",
       "4         Я не ожидал, что Том предаст меня.  either   MT        "
      ]
     },
     "execution_count": 17,
     "metadata": {},
     "output_type": "execute_result"
    }
   ],
   "source": [
    "df_agnostic.head()"
   ]
  },
  {
   "cell_type": "code",
   "execution_count": 28,
   "metadata": {},
   "outputs": [],
   "source": [
    "df_agnostic.drop(columns = 'model', inplace = True)"
   ]
  },
  {
   "cell_type": "code",
   "execution_count": 29,
   "metadata": {},
   "outputs": [
    {
     "data": {
      "text/plain": [
       "hyp     0\n",
       "tgt     0\n",
       "src     0\n",
       "ref     0\n",
       "task    0\n",
       "dtype: int64"
      ]
     },
     "execution_count": 29,
     "metadata": {},
     "output_type": "execute_result"
    }
   ],
   "source": [
    "df_agnostic.isna().sum()"
   ]
  }
 ],
 "metadata": {
  "kernelspec": {
   "display_name": "tensorflow",
   "language": "python",
   "name": "python3"
  },
  "language_info": {
   "codemirror_mode": {
    "name": "ipython",
    "version": 3
   },
   "file_extension": ".py",
   "mimetype": "text/x-python",
   "name": "python",
   "nbconvert_exporter": "python",
   "pygments_lexer": "ipython3",
   "version": "3.10.4"
  }
 },
 "nbformat": 4,
 "nbformat_minor": 2
}
